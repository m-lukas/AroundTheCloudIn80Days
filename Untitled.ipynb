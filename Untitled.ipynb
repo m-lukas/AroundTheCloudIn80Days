{
 "cells": [
  {
   "cell_type": "code",
   "execution_count": null,
   "id": "575d30c9-604f-4ed2-bc77-a3715d6628df",
   "metadata": {},
   "outputs": [],
   "source": [
    "import csv"
   ]
  },
  {
   "cell_type": "code",
   "execution_count": null,
   "id": "411b4f0a-9b47-455e-8e7a-0d11e67e819a",
   "metadata": {},
   "outputs": [],
   "source": [
    "data = []\n",
    "\n",
    "with open(\"data/DE-2021-11-20.csv\", newline=\"\") as file:\n",
    "    reader = csv.reader(file)\n",
    "    \n",
    "    # skip column names\n",
    "    reader.__next__()\n",
    "    \n",
    "    for row in reader:\n",
    "        if \"-\" not in row:\n",
    "            data.append(row[2:])\n"
   ]
  },
  {
   "cell_type": "code",
   "execution_count": null,
   "id": "a0b51287-9632-460e-8964-1d26e497559a",
   "metadata": {},
   "outputs": [],
   "source": [
    "def to_int(val: str) -> int:\n",
    "    \"Convert a 'str' to `int`. Returns `0` in case the conversion fails.\"\n",
    "    try:\n",
    "        return int(val)\n",
    "    except ValueError:\n",
    "        return 0"
   ]
  },
  {
   "cell_type": "code",
   "execution_count": null,
   "id": "2dc609fc-cf75-4612-85f9-56cecf3804b2",
   "metadata": {},
   "outputs": [],
   "source": [
    "recent_data = [to_int(b) for b in data[-1]]\n",
    "recent_data"
   ]
  },
  {
   "cell_type": "code",
   "execution_count": null,
   "id": "f9cffd25-b0b0-42a9-99f3-1b3cc2167259",
   "metadata": {},
   "outputs": [],
   "source": [
    "total_energy = sum(recent_data)\n",
    "total_energy"
   ]
  },
  {
   "cell_type": "code",
   "execution_count": null,
   "id": "d60d06fd-8447-4790-820b-05ce58a82350",
   "metadata": {},
   "outputs": [],
   "source": [
    "green_data = [a for idx, a in enumerate(recent_data) if idx in [0, 8, 9, 11, 12, 13, 16, 17, 19, 20]]"
   ]
  },
  {
   "cell_type": "code",
   "execution_count": null,
   "id": "5092a171-efc5-45b3-bae6-3a6ffb00bf3e",
   "metadata": {},
   "outputs": [],
   "source": [
    "green_energy = sum(green_data)\n",
    "green_energy"
   ]
  },
  {
   "cell_type": "code",
   "execution_count": null,
   "id": "4c216217-237a-40d2-96e3-11aa4e07fc8d",
   "metadata": {},
   "outputs": [],
   "source": [
    "(green_energy / total_energy) * 100\n"
   ]
  }
 ],
 "metadata": {
  "kernelspec": {
   "display_name": "Python 3 (ipykernel)",
   "language": "python",
   "name": "python3"
  },
  "language_info": {
   "codemirror_mode": {
    "name": "ipython",
    "version": 3
   },
   "file_extension": ".py",
   "mimetype": "text/x-python",
   "name": "python",
   "nbconvert_exporter": "python",
   "pygments_lexer": "ipython3",
   "version": "3.9.7"
  }
 },
 "nbformat": 4,
 "nbformat_minor": 5
}
